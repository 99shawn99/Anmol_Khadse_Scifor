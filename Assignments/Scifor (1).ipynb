{
  "cells": [
    {
      "cell_type": "code",
      "execution_count": 37,
      "metadata": {
        "id": "ldXDjy03nWTR"
      },
      "outputs": [],
      "source": [
        "\n",
        "import pandas as pd\n",
        "import numpy as np"
      ]
    },
    {
      "cell_type": "code",
      "source": [
        "a = pd.Series(data =[24,35,64,33,50],index= ['IT Dept','Managers','HR Dept','Accout section','training team'])\n",
        "a"
      ],
      "metadata": {
        "id": "iqFaQYvMlFYy",
        "colab": {
          "base_uri": "https://localhost:8080/"
        },
        "outputId": "07fb0a73-31d6-4354-9666-a468103e4a7c"
      },
      "execution_count": 21,
      "outputs": [
        {
          "output_type": "execute_result",
          "data": {
            "text/plain": [
              "IT Dept           24\n",
              "Managers          35\n",
              "HR Dept           64\n",
              "Accout section    33\n",
              "training team     50\n",
              "dtype: int64"
            ]
          },
          "metadata": {},
          "execution_count": 21
        }
      ]
    },
    {
      "cell_type": "code",
      "source": [
        "a[1]=20\n",
        "a['Account section']=33\n",
        "a[4]=45"
      ],
      "metadata": {
        "id": "ZeJcGkj8g4b5"
      },
      "execution_count": 23,
      "outputs": []
    },
    {
      "cell_type": "code",
      "source": [
        "a"
      ],
      "metadata": {
        "colab": {
          "base_uri": "https://localhost:8080/"
        },
        "id": "V43JN6Qoiyq8",
        "outputId": "65cee88d-7072-44a5-ddad-cf1a130be4c2"
      },
      "execution_count": 24,
      "outputs": [
        {
          "output_type": "execute_result",
          "data": {
            "text/plain": [
              "IT Dept            24\n",
              "Managers           20\n",
              "HR Dept            64\n",
              "Accout section     33\n",
              "training team      45\n",
              "Account section    33\n",
              "dtype: int64"
            ]
          },
          "metadata": {},
          "execution_count": 24
        }
      ]
    },
    {
      "cell_type": "code",
      "source": [
        "b = pd.Series(data=[10,20,30],index=['Science','Commerce','Humanities'])\n",
        "c = pd.Series(data=[20,25,30],index=['Science','Commerce','Humanities'])\n",
        "print(b)\n",
        "print(c)\n"
      ],
      "metadata": {
        "colab": {
          "base_uri": "https://localhost:8080/"
        },
        "id": "HYnNYqS4i2cx",
        "outputId": "e7635641-fd7e-445d-8d59-48c2094ac97c"
      },
      "execution_count": 27,
      "outputs": [
        {
          "output_type": "stream",
          "name": "stdout",
          "text": [
            "Science       10\n",
            "Commerce      20\n",
            "Humanities    30\n",
            "dtype: int64\n",
            "Science       20\n",
            "Commerce      25\n",
            "Humanities    30\n",
            "dtype: int64\n"
          ]
        }
      ]
    },
    {
      "cell_type": "code",
      "source": [
        "b+c"
      ],
      "metadata": {
        "colab": {
          "base_uri": "https://localhost:8080/"
        },
        "id": "nVE_BmJtjuhw",
        "outputId": "6556562a-1f56-4395-b1d3-aa140cd36e01"
      },
      "execution_count": 28,
      "outputs": [
        {
          "output_type": "execute_result",
          "data": {
            "text/plain": [
              "Science       30\n",
              "Commerce      45\n",
              "Humanities    60\n",
              "dtype: int64"
            ]
          },
          "metadata": {},
          "execution_count": 28
        }
      ]
    },
    {
      "cell_type": "code",
      "source": [
        "c1 = pd.Series(data=[9000,5000,4000,3000],index=['Delhi','Mumbai','Pune','Banglore'])\n",
        "c2 = pd.Series(data=[80000,50000,70000,30000],index=['Delhi','Mumbai','Pune','Banglore'])\n",
        "print(c1)\n",
        "print(c2)"
      ],
      "metadata": {
        "colab": {
          "base_uri": "https://localhost:8080/"
        },
        "id": "oetHduuxkHlp",
        "outputId": "5d4fa2ee-5805-4cc9-a30b-f7cbb973e24e"
      },
      "execution_count": 34,
      "outputs": [
        {
          "output_type": "stream",
          "name": "stdout",
          "text": [
            "Delhi       9000\n",
            "Mumbai      5000\n",
            "Pune        4000\n",
            "Banglore    3000\n",
            "dtype: int64\n",
            "Delhi       80000\n",
            "Mumbai      50000\n",
            "Pune        70000\n",
            "Banglore    30000\n",
            "dtype: int64\n"
          ]
        }
      ]
    },
    {
      "cell_type": "code",
      "source": [
        "c2/c1"
      ],
      "metadata": {
        "colab": {
          "base_uri": "https://localhost:8080/"
        },
        "id": "unSRGG_0ldjZ",
        "outputId": "ade86f5b-147e-4b1c-a6c2-50c718ce5588"
      },
      "execution_count": 35,
      "outputs": [
        {
          "output_type": "execute_result",
          "data": {
            "text/plain": [
              "Delhi        8.888889\n",
              "Mumbai      10.000000\n",
              "Pune        17.500000\n",
              "Banglore    10.000000\n",
              "dtype: float64"
            ]
          },
          "metadata": {},
          "execution_count": 35
        }
      ]
    }
  ],
  "metadata": {
    "colab": {
      "provenance": []
    },
    "kernelspec": {
      "display_name": "Python 3",
      "name": "python3"
    },
    "language_info": {
      "name": "python"
    }
  },
  "nbformat": 4,
  "nbformat_minor": 0
}
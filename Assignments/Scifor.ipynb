{
  "cells": [
    {
      "cell_type": "code",
      "execution_count": 2,
      "metadata": {
        "id": "ldXDjy03nWTR"
      },
      "outputs": [],
      "source": [
        "import pandas as pd\n",
        "import numpy as np"
      ]
    },
    {
      "cell_type": "code",
      "execution_count": 3,
      "metadata": {
        "colab": {
          "base_uri": "https://localhost:8080/"
        },
        "id": "AaGl6-jFnuov",
        "outputId": "a1bc5c35-1f77-4e64-8977-6518a70f3c9a"
      },
      "outputs": [
        {
          "output_type": "execute_result",
          "data": {
            "text/plain": [
              "0    1\n",
              "1    2\n",
              "2    3\n",
              "3    4\n",
              "4    5\n",
              "5    6\n",
              "6    7\n",
              "7    8\n",
              "8    9\n",
              "dtype: int64"
            ]
          },
          "metadata": {},
          "execution_count": 3
        }
      ],
      "source": [
        "#Q1\n",
        "S_1 = [1,2,3,4,5,6,7,8,9]\n",
        "S1 = pd.Series(S_1)\n",
        "S1"
      ]
    },
    {
      "cell_type": "code",
      "source": [
        "#Q2\n",
        "S2= pd.Series(30000,index=['Q1','Q2','Q3','Q4'])\n",
        "S2"
      ],
      "metadata": {
        "colab": {
          "base_uri": "https://localhost:8080/"
        },
        "id": "cjjtxGWG6K-d",
        "outputId": "49c41d91-8722-4386-8380-2aa1053a9f47"
      },
      "execution_count": 5,
      "outputs": [
        {
          "output_type": "execute_result",
          "data": {
            "text/plain": [
              "Q1    30000\n",
              "Q2    30000\n",
              "Q3    30000\n",
              "Q4    30000\n",
              "dtype: int64"
            ]
          },
          "metadata": {},
          "execution_count": 5
        }
      ]
    },
    {
      "cell_type": "code",
      "source": [
        "#Q3\n",
        "S3=np.random.randint(0, 70, 10)\n",
        "data=pd.Series(S3)\n",
        "data"
      ],
      "metadata": {
        "colab": {
          "base_uri": "https://localhost:8080/"
        },
        "id": "HXmFIbOJ9wv5",
        "outputId": "61f2aca4-06f2-4bd0-c842-96bae7a6aae7"
      },
      "execution_count": 29,
      "outputs": [
        {
          "output_type": "execute_result",
          "data": {
            "text/plain": [
              "0    22\n",
              "1    63\n",
              "2    33\n",
              "3    52\n",
              "4    49\n",
              "5    38\n",
              "6     3\n",
              "7    64\n",
              "8    64\n",
              "9    27\n",
              "dtype: int64"
            ]
          },
          "metadata": {},
          "execution_count": 29
        }
      ]
    },
    {
      "cell_type": "code",
      "source": [
        "#Q4\n",
        "marks={'Section A': 199,'Section B': 150,'Section C': 188,'Section D': 192}\n",
        "a_series=pd.Series(marks)\n",
        "a_series\n"
      ],
      "metadata": {
        "colab": {
          "base_uri": "https://localhost:8080/"
        },
        "id": "JfEfCYjeAfPa",
        "outputId": "c631fe5a-c8d7-4972-c24f-1fab80550447"
      },
      "execution_count": 23,
      "outputs": [
        {
          "output_type": "execute_result",
          "data": {
            "text/plain": [
              "Section A    199\n",
              "Section B    150\n",
              "Section C    188\n",
              "Section D    192\n",
              "dtype: int64"
            ]
          },
          "metadata": {},
          "execution_count": 23
        }
      ]
    },
    {
      "cell_type": "code",
      "source": [
        "#Q5\n",
        "time_period=range(2000,2023,2)\n",
        "exam_question_series=pd.Series(200,index=time_period)\n",
        "exam_question_series"
      ],
      "metadata": {
        "colab": {
          "base_uri": "https://localhost:8080/"
        },
        "id": "X2AzRoQ7Cofj",
        "outputId": "65493b1f-bc84-4caf-df5b-8d3d3f267f4e"
      },
      "execution_count": 27,
      "outputs": [
        {
          "output_type": "execute_result",
          "data": {
            "text/plain": [
              "2000    200\n",
              "2002    200\n",
              "2004    200\n",
              "2006    200\n",
              "2008    200\n",
              "2010    200\n",
              "2012    200\n",
              "2014    200\n",
              "2016    200\n",
              "2018    200\n",
              "2020    200\n",
              "2022    200\n",
              "dtype: int64"
            ]
          },
          "metadata": {},
          "execution_count": 27
        }
      ]
    }
  ],
  "metadata": {
    "colab": {
      "provenance": []
    },
    "kernelspec": {
      "display_name": "Python 3",
      "name": "python3"
    },
    "language_info": {
      "name": "python"
    }
  },
  "nbformat": 4,
  "nbformat_minor": 0
}
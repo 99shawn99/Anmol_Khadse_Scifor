{
  "nbformat": 4,
  "nbformat_minor": 0,
  "metadata": {
    "colab": {
      "provenance": []
    },
    "kernelspec": {
      "name": "python3",
      "display_name": "Python 3"
    },
    "language_info": {
      "name": "python"
    }
  },
  "cells": [
    {
      "cell_type": "code",
      "execution_count": 7,
      "metadata": {
        "id": "oyJKPg75kVJn"
      },
      "outputs": [],
      "source": [
        "#Variables and Data Types\n",
        "# Integer\n",
        "x = 5\n",
        "\n",
        "# Float\n",
        "y = 3.14\n",
        "\n",
        "# String\n",
        "name = \"Anmol\"\n",
        "\n",
        "# Boolean\n",
        "is_active = True"
      ]
    },
    {
      "cell_type": "code",
      "source": [
        "#Data Structures\n",
        "#list\n",
        "fruits = [\"apple\", \"banana\", \"cherry\"]\n",
        "fruits.append(\"orange\")  # Adding an element\n",
        "print(fruits[1])  # Accessing elements by index\n",
        "\n",
        "#Tuples\n",
        "#Tuples are ordered and unchangeable collections\n",
        "coordinates = (10, 20)\n",
        "print(coordinates[0])"
      ],
      "metadata": {
        "colab": {
          "base_uri": "https://localhost:8080/"
        },
        "id": "PyNAFyKgktFc",
        "outputId": "7bf57489-c623-42e5-a030-e1f4eafbe21d"
      },
      "execution_count": 6,
      "outputs": [
        {
          "output_type": "stream",
          "name": "stdout",
          "text": [
            "banana\n",
            "10\n"
          ]
        }
      ]
    },
    {
      "cell_type": "code",
      "source": [
        "#Dictionaries\n",
        "#Dictionaries are unordered collections of key-value pairs.\n",
        "person = {\"name\": \"Anmol\", \"age\": 25}\n",
        "print(person[\"name\"])\n",
        "person[\"age\"] = 26  # Updating value"
      ],
      "metadata": {
        "colab": {
          "base_uri": "https://localhost:8080/"
        },
        "id": "dw5lXcXdlIC9",
        "outputId": "f23b8451-3ca1-45a9-eb1d-3310a0fe7ace"
      },
      "execution_count": 5,
      "outputs": [
        {
          "output_type": "stream",
          "name": "stdout",
          "text": [
            "Anmol\n"
          ]
        }
      ]
    },
    {
      "cell_type": "code",
      "source": [
        "#If-Else Statements\n",
        "age = 18\n",
        "if age >= 18:\n",
        "    print(\"Adult\")\n",
        "else:\n",
        "    print(\"Minor\")"
      ],
      "metadata": {
        "colab": {
          "base_uri": "https://localhost:8080/"
        },
        "id": "iAcA1JsclVJ5",
        "outputId": "4ae3a14e-c0e3-496f-acb6-63db4ffd2b3b"
      },
      "execution_count": 3,
      "outputs": [
        {
          "output_type": "stream",
          "name": "stdout",
          "text": [
            "Adult\n"
          ]
        }
      ]
    },
    {
      "cell_type": "code",
      "source": [
        "#Loops\n",
        "# For loop\n",
        "for i in range(5):\n",
        "    print(i)\n",
        "\n",
        "# While loop\n",
        "count = 0\n",
        "while count < 5:\n",
        "    print(count)\n",
        "    count += 1"
      ],
      "metadata": {
        "colab": {
          "base_uri": "https://localhost:8080/"
        },
        "id": "MLzgjsBnlccw",
        "outputId": "bc6e10bc-5a2a-402c-f55f-0cbc30dc4bb2"
      },
      "execution_count": 2,
      "outputs": [
        {
          "output_type": "stream",
          "name": "stdout",
          "text": [
            "0\n",
            "1\n",
            "2\n",
            "3\n",
            "4\n",
            "0\n",
            "1\n",
            "2\n",
            "3\n",
            "4\n"
          ]
        }
      ]
    },
    {
      "cell_type": "code",
      "source": [
        "#Map, Filter, and Reduce\n",
        "# Map\n",
        "nums = [1, 2, 3, 4]\n",
        "squared = list(map(lambda x: x**2, nums))\n",
        "print(squared)\n",
        "\n",
        "# Filter\n",
        "evens = list(filter(lambda x: x % 2 == 0, nums))\n",
        "print(evens)\n",
        "\n",
        "# Reduce\n",
        "from functools import reduce\n",
        "product = reduce(lambda x, y: x * y, nums)\n",
        "print(product)"
      ],
      "metadata": {
        "colab": {
          "base_uri": "https://localhost:8080/"
        },
        "id": "42tSzTb3liXo",
        "outputId": "e22b0032-733a-4369-8c42-1ecc0b231afe"
      },
      "execution_count": 1,
      "outputs": [
        {
          "output_type": "stream",
          "name": "stdout",
          "text": [
            "[1, 4, 9, 16]\n",
            "[2, 4]\n",
            "24\n"
          ]
        }
      ]
    }
  ]
}
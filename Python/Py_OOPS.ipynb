{
  "nbformat": 4,
  "nbformat_minor": 0,
  "metadata": {
    "colab": {
      "provenance": []
    },
    "kernelspec": {
      "name": "python3",
      "display_name": "Python 3"
    },
    "language_info": {
      "name": "python"
    }
  },
  "cells": [
    {
      "cell_type": "markdown",
      "source": [
        "## Introduction to OOP\n",
        "\n",
        "Object-Oriented Programming (OOP) is a programming paradigm that uses \"objects\" to design applications and programs. It allows for structuring software in a way that models real-world entities using classes and objects.\n",
        "\n",
        "## Classes and Objects\n",
        "\n",
        "Classes\n",
        "\n",
        "A class is a blueprint for creating objects. It defines a set of attributes and methods that the created objects will have.\n",
        "\n",
        "Objects\n",
        "\n",
        "\n",
        "An object is an instance of a class."
      ],
      "metadata": {
        "id": "_7bPeteE2Ydp"
      }
    },
    {
      "cell_type": "code",
      "execution_count": 3,
      "metadata": {
        "id": "LV6BLYGr2UUF"
      },
      "outputs": [],
      "source": [
        "class BankAccount:\n",
        "    pass"
      ]
    },
    {
      "cell_type": "markdown",
      "source": [],
      "metadata": {
        "id": "iLBNcdXJ24zl"
      }
    },
    {
      "cell_type": "code",
      "source": [
        "# Create an instance of the BankAccount class\n",
        "account = BankAccount()\n"
      ],
      "metadata": {
        "id": "GHpv055A22Bh"
      },
      "execution_count": 4,
      "outputs": []
    },
    {
      "cell_type": "markdown",
      "source": [
        "Attributes and Methods\n",
        "\n",
        "Attributes\n",
        "\n",
        "Attributes are variables that belong to a class."
      ],
      "metadata": {
        "id": "5Z_-3PTw3SVR"
      }
    },
    {
      "cell_type": "code",
      "source": [
        "class BankAccount:\n",
        "    def __init__(self, account_number, balance=0):\n",
        "        self.account_number = account_number\n",
        "        self.balance = balance\n",
        "\n",
        "# Create an instance of the BankAccount class\n",
        "account = BankAccount(\"12345678\", 1000)\n",
        "print(account.account_number)\n",
        "print(account.balance)\n"
      ],
      "metadata": {
        "colab": {
          "base_uri": "https://localhost:8080/"
        },
        "id": "TyGvmgb73VPi",
        "outputId": "20fdec2e-648a-451d-8157-e49a79f48d83"
      },
      "execution_count": 5,
      "outputs": [
        {
          "output_type": "stream",
          "name": "stdout",
          "text": [
            "12345678\n",
            "1000\n"
          ]
        }
      ]
    },
    {
      "cell_type": "markdown",
      "source": [
        "**Methods**\n",
        "\n",
        "Methods are functions that belong to a class."
      ],
      "metadata": {
        "id": "S6AcmMIH3cdX"
      }
    },
    {
      "cell_type": "code",
      "source": [
        "class BankAccount:\n",
        "    def __init__(self, account_number, balance=0):\n",
        "        self.account_number = account_number\n",
        "        self.balance = balance\n",
        "\n",
        "    def deposit(self, amount):\n",
        "        self.balance += amount\n",
        "        return self.balance\n",
        "\n",
        "    def withdraw(self, amount):\n",
        "        if amount <= self.balance:\n",
        "            self.balance -= amount\n",
        "            return self.balance\n",
        "        else:\n",
        "            return \"Insufficient funds\"\n",
        "\n",
        "# Create an instance of the BankAccount class\n",
        "account = BankAccount(\"12345678\", 1000)\n",
        "print(account.deposit(500))\n",
        "print(account.withdraw(200))\n",
        "print(account.withdraw(1500))\n"
      ],
      "metadata": {
        "colab": {
          "base_uri": "https://localhost:8080/"
        },
        "id": "B_uZO4vA3iY1",
        "outputId": "527059be-cc1b-46e7-bb0a-18460a3c970a"
      },
      "execution_count": 6,
      "outputs": [
        {
          "output_type": "stream",
          "name": "stdout",
          "text": [
            "1500\n",
            "1300\n",
            "Insufficient funds\n"
          ]
        }
      ]
    },
    {
      "cell_type": "markdown",
      "source": [
        "**Inheritance**\n",
        "\n",
        "Inheritance allows a class to inherit attributes and methods from another class."
      ],
      "metadata": {
        "id": "5NvpaR6g3rdZ"
      }
    },
    {
      "cell_type": "code",
      "source": [
        "class BankAccount:\n",
        "    def __init__(self, account_number, balance=0):\n",
        "        self.account_number = account_number\n",
        "        self.balance = balance\n",
        "\n",
        "    def deposit(self, amount):\n",
        "        self.balance += amount\n",
        "        return self.balance\n",
        "\n",
        "    def withdraw(self, amount):\n",
        "        if amount <= self.balance:\n",
        "            self.balance -= amount\n",
        "            return self.balance\n",
        "        else:\n",
        "            return \"Insufficient funds\"\n",
        "\n",
        "class SavingsAccount(BankAccount):\n",
        "    def __init__(self, account_number, balance=0, interest_rate=0.01):\n",
        "        super().__init__(account_number, balance)\n",
        "        self.interest_rate = interest_rate\n",
        "\n",
        "    def apply_interest(self):\n",
        "        self.balance += self.balance * self.interest_rate\n",
        "        return self.balance\n",
        "\n",
        "# Create an instance of the SavingsAccount class\n",
        "savings_account = SavingsAccount(\"87654321\", 2000, 0.05)\n",
        "print(savings_account.deposit(1000))\n",
        "print(savings_account.apply_interest())\n"
      ],
      "metadata": {
        "colab": {
          "base_uri": "https://localhost:8080/"
        },
        "id": "g4F0eJg73wYq",
        "outputId": "63847c69-0700-457f-a654-46e4912cd4f3"
      },
      "execution_count": 7,
      "outputs": [
        {
          "output_type": "stream",
          "name": "stdout",
          "text": [
            "3000\n",
            "3150.0\n"
          ]
        }
      ]
    },
    {
      "cell_type": "markdown",
      "source": [
        "**Encapsulation**\n",
        "\n",
        "Encapsulation is the bundling of data and methods that operate on that data within a single unit or class."
      ],
      "metadata": {
        "id": "cxhw8GxE34JK"
      }
    },
    {
      "cell_type": "code",
      "source": [
        "class BankAccount:\n",
        "    def __init__(self, account_number, balance=0):\n",
        "        self.__account_number = account_number  # Private attribute\n",
        "        self.__balance = balance  # Private attribute\n",
        "\n",
        "    def deposit(self, amount):\n",
        "        self.__balance += amount\n",
        "        return self.__balance\n",
        "\n",
        "    def withdraw(self, amount):\n",
        "        if amount <= self.__balance:\n",
        "            self.__balance -= amount\n",
        "            return self.__balance\n",
        "        else:\n",
        "            return \"Insufficient funds\"\n",
        "\n",
        "    def get_balance(self):\n",
        "        return self.__balance\n",
        "\n",
        "# Create an instance of the BankAccount class\n",
        "account = BankAccount(\"12345678\", 1000)\n",
        "print(account.deposit(500))\n",
        "print(account.get_balance())\n"
      ],
      "metadata": {
        "colab": {
          "base_uri": "https://localhost:8080/"
        },
        "id": "GDtfne6g380W",
        "outputId": "c2b2a114-30b4-4993-b96d-621211e910d4"
      },
      "execution_count": 8,
      "outputs": [
        {
          "output_type": "stream",
          "name": "stdout",
          "text": [
            "1500\n",
            "1500\n"
          ]
        }
      ]
    },
    {
      "cell_type": "markdown",
      "source": [
        "**Polymorphism**\n",
        "\n",
        "Polymorphism allows methods to be used interchangeably among different classes."
      ],
      "metadata": {
        "id": "sBMYTK844HEy"
      }
    },
    {
      "cell_type": "code",
      "source": [
        "class BankAccount:\n",
        "    def __init__(self, account_number, balance=0):\n",
        "        self.account_number = account_number\n",
        "        self.balance = balance\n",
        "\n",
        "    def withdraw(self, amount):\n",
        "        if amount <= self.balance:\n",
        "            self.balance -= amount\n",
        "            return self.balance\n",
        "        else:\n",
        "            return \"Insufficient funds\"\n",
        "\n",
        "class SavingsAccount(BankAccount):\n",
        "    def __init__(self, account_number, balance=0, interest_rate=0.01):\n",
        "        super().__init__(account_number, balance)\n",
        "        self.interest_rate = interest_rate\n",
        "\n",
        "    def apply_interest(self):\n",
        "        self.balance += self.balance * self.interest_rate\n",
        "        return self.balance\n",
        "\n",
        "# Polymorphic function\n",
        "def perform_withdrawal(account, amount):\n",
        "    print(account.withdraw(amount))\n",
        "\n",
        "# Create instances of BankAccount and SavingsAccount\n",
        "checking_account = BankAccount(\"12345678\", 1000)\n",
        "savings_account = SavingsAccount(\"87654321\", 2000, 0.05)\n",
        "\n",
        "# Call the polymorphic function\n",
        "perform_withdrawal(checking_account, 100)\n",
        "perform_withdrawal(savings_account, 100)\n"
      ],
      "metadata": {
        "colab": {
          "base_uri": "https://localhost:8080/"
        },
        "id": "3w4Rn5zQ4Jj3",
        "outputId": "6faace5c-a8c6-41af-89f9-65edf8018eb8"
      },
      "execution_count": 9,
      "outputs": [
        {
          "output_type": "stream",
          "name": "stdout",
          "text": [
            "900\n",
            "1900\n"
          ]
        }
      ]
    }
  ]
}